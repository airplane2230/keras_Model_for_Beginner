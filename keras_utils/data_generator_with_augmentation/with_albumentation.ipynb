{
 "cells": [
  {
   "cell_type": "code",
   "execution_count": null,
   "metadata": {},
   "outputs": [],
   "source": [
    "from tensorflow.keras.datasets import cifar10\n",
    "\n",
    "import albumentations\n",
    "import cv2\n",
    "import numpy as np\n",
    "import matplotlib.pyplot as plt\n",
    "import cv2\n",
    "# augmentation method를 import합니다.\n",
    "from albumentations import (\n",
    "    Compose, HorizontalFlip, CLAHE, HueSaturationValue,\n",
    "    RandomBrightness, RandomContrast, RandomGamma,\n",
    "    ToFloat, ShiftScaleRotate\n",
    ")"
   ]
  },
  {
   "cell_type": "code",
   "execution_count": null,
   "metadata": {},
   "outputs": [],
   "source": [
    "# 각 함수에 대한 설명은\n",
    "# https://albumentations.ai/docs/\n",
    "# document를 참고하세요.\n",
    "Aug_train = Compose([\n",
    "    HorizontalFlip(p=0.5),\n",
    "    RandomContrast(limit=0.2, p=0.5),\n",
    "    RandomGamma(gamma_limit=(80, 120), p=0.5),\n",
    "    RandomBrightness(limit=0.2, p=0.5),\n",
    "    HueSaturationValue(hue_shift_limit=5, sat_shift_limit=20,\n",
    "                       val_shift_limit=10, p=.9),\n",
    "    ShiftScaleRotate(\n",
    "        shift_limit=0.0625, scale_limit=0.1, \n",
    "        rotate_limit=15, border_mode=cv2.BORDER_REFLECT_101, p=0.8), \n",
    "    ToFloat(max_value=255)\n",
    "])\n",
    "\n",
    "Aug_test = Compose([\n",
    "    ToFloat(max_value=255)\n",
    "])"
   ]
  },
  {
   "cell_type": "code",
   "execution_count": null,
   "metadata": {},
   "outputs": [],
   "source": [
    "from tensorflow.python.keras.utils.data_utils import Sequence\n",
    "\n",
    "# Sequence 클래스를 상속받아 generator 형태로 사용합니다.\n",
    "class CIFAR10Dataset(Sequence):\n",
    "    def __init__(self, x_set, y_set, batch_size, augmentations):\n",
    "        self.x, self.y = x_set, y_set\n",
    "        self.batch_size = batch_size\n",
    "        self.augment = augmentations\n",
    "\n",
    "    def __len__(self):\n",
    "        return int(np.ceil(len(self.x) / float(self.batch_size)))\n",
    "\n",
    "    # 지정 배치 크기만큼 데이터를 로드합니다.\n",
    "    def __getitem__(self, idx):\n",
    "        batch_x = self.x[idx * self.batch_size:(idx + 1) * self.batch_size]\n",
    "        batch_y = self.y[idx * self.batch_size:(idx + 1) * self.batch_size]\n",
    "        \n",
    "        # augmentation을 적용해서 numpy array에 stack합니다.\n",
    "        return np.stack([\n",
    "            self.augment(image=x)[\"image\"] for x in batch_x\n",
    "        ], axis=0), np.array(batch_y)\n",
    "\n",
    "# CIFAR-10 Dataset을 불러옵니다.\n",
    "(x_train, y_train), (x_test, y_test) = cifar10.load_data()\n",
    "\n",
    "BATCH_SIZE = 8\n",
    "\n",
    "# Dataset을 생성합니다.\n",
    "train_gen = CIFAR10Dataset(x_train, y_train, BATCH_SIZE, Aug_train)\n",
    "test_gen = CIFAR10Dataset(x_test, y_test, BATCH_SIZE, Aug_test)"
   ]
  },
  {
   "cell_type": "code",
   "execution_count": null,
   "metadata": {},
   "outputs": [],
   "source": [
    "# 데이터를 그려봅시다.\n",
    "images, labels = next(iter(train_gen))\n",
    "\n",
    "fig = plt.figure()\n",
    "\n",
    "for i, (image, label) in enumerate(zip(images, labels)):\n",
    "    ax = fig.add_subplot(3, 3, i + 1)\n",
    "    ax.imshow(image)\n",
    "    ax.set_xlabel(label)\n",
    "    ax.set_xticks([]); ax.set_yticks([])\n",
    "\n",
    "plt.tight_layout()\n",
    "plt.show()"
   ]
  }
 ],
 "metadata": {
  "kernelspec": {
   "display_name": "study",
   "language": "python",
   "name": "study"
  },
  "language_info": {
   "codemirror_mode": {
    "name": "ipython",
    "version": 3
   },
   "file_extension": ".py",
   "mimetype": "text/x-python",
   "name": "python",
   "nbconvert_exporter": "python",
   "pygments_lexer": "ipython3",
   "version": "3.6.8"
  }
 },
 "nbformat": 4,
 "nbformat_minor": 2
}
