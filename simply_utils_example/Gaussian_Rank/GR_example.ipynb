{
 "cells": [
  {
   "cell_type": "code",
   "execution_count": 1,
   "metadata": {},
   "outputs": [],
   "source": [
    "import numpy as np\n",
    "import pandas as pd\n",
    "import matplotlib.pyplot as plt\n",
    "\n",
    "from scipy.special import erfinv\n",
    "from sklearn.preprocessing import QuantileTransformer\n",
    "\n",
    "np.random.seed(42)"
   ]
  },
  {
   "cell_type": "markdown",
   "metadata": {},
   "source": [
    "# Github code\n",
    "+ https://github.com/affjljoo3581/Job-Recommend-Competition"
   ]
  },
  {
   "cell_type": "code",
   "execution_count": 2,
   "metadata": {},
   "outputs": [
    {
     "data": {
      "text/html": [
       "<div>\n",
       "<style scoped>\n",
       "    .dataframe tbody tr th:only-of-type {\n",
       "        vertical-align: middle;\n",
       "    }\n",
       "\n",
       "    .dataframe tbody tr th {\n",
       "        vertical-align: top;\n",
       "    }\n",
       "\n",
       "    .dataframe thead th {\n",
       "        text-align: right;\n",
       "    }\n",
       "</style>\n",
       "<table border=\"1\" class=\"dataframe\">\n",
       "  <thead>\n",
       "    <tr style=\"text-align: right;\">\n",
       "      <th></th>\n",
       "      <th>0</th>\n",
       "    </tr>\n",
       "  </thead>\n",
       "  <tbody>\n",
       "    <tr>\n",
       "      <th>0</th>\n",
       "      <td>155.839539</td>\n",
       "    </tr>\n",
       "    <tr>\n",
       "      <th>1</th>\n",
       "      <td>86.651495</td>\n",
       "    </tr>\n",
       "    <tr>\n",
       "      <th>2</th>\n",
       "      <td>175.256365</td>\n",
       "    </tr>\n",
       "    <tr>\n",
       "      <th>3</th>\n",
       "      <td>310.293484</td>\n",
       "    </tr>\n",
       "    <tr>\n",
       "      <th>4</th>\n",
       "      <td>77.955358</td>\n",
       "    </tr>\n",
       "  </tbody>\n",
       "</table>\n",
       "</div>"
      ],
      "text/plain": [
       "            0\n",
       "0  155.839539\n",
       "1   86.651495\n",
       "2  175.256365\n",
       "3  310.293484\n",
       "4   77.955358"
      ]
     },
     "execution_count": 2,
     "metadata": {},
     "output_type": "execute_result"
    }
   ],
   "source": [
    "# 데이터 생성\n",
    "X = (np.random.randn(200, 1) * 5 + 10) ** 2\n",
    "df = pd.DataFrame(X)\n",
    "df.head()"
   ]
  },
  {
   "cell_type": "code",
   "execution_count": 3,
   "metadata": {},
   "outputs": [],
   "source": [
    "epsilon = 1e-4\n",
    "noise_scale = 0.001\n",
    "\n",
    "gaussian_noise = np.random.normal(0, 1, df[df.columns[0]].shape)\n",
    "transformed_data = df[df.columns[0]] + noise_scale * df[df.columns[0]].max() * gaussian_noise\n",
    "\n",
    "data_rank = np.argsort(np.argsort(transformed_data))\n",
    "data_rank = 2 * data_rank / data_rank.max() - 1\n",
    "\n",
    "clipped_data_rank = np.clip(data_rank, -1 + epsilon, 1 - epsilon)\n",
    "# 오차역함수 적용\n",
    "transformed_data = erfinv(clipped_data_rank)"
   ]
  },
  {
   "cell_type": "code",
   "execution_count": 4,
   "metadata": {},
   "outputs": [
    {
     "data": {
      "image/png": "[encoded data removed]",
      "text/plain": [
       "<Figure size 720x360 with 2 Axes>"
      ]
     },
     "metadata": {
      "needs_background": "light"
     },
     "output_type": "display_data"
    }
   ],
   "source": [
    "plt.figure(figsize = (10, 5))\n",
    "\n",
    "plt.subplot(1, 2, 1)\n",
    "plt.hist(df[df.columns[0]])\n",
    "plt.title('Before')\n",
    "\n",
    "plt.subplot(1, 2, 2)\n",
    "plt.hist(transformed_data)\n",
    "plt.title('After Gaussian Rank')\n",
    "\n",
    "plt.tight_layout()\n",
    "plt.show()"
   ]
  },
  {
   "cell_type": "markdown",
   "metadata": {},
   "source": [
    "# Kaggle Code\n",
    "+ numpy implementation\n",
    "+ https://www.kaggle.com/tottenham/10-fold-simple-dnn-with-rank-gauss"
   ]
  },
  {
   "cell_type": "code",
   "execution_count": 5,
   "metadata": {},
   "outputs": [],
   "source": [
    "def rank_gauss(x):\n",
    "    N = x.shape[0]\n",
    "    temp = x.argsort()\n",
    "    \n",
    "    rank_x = temp.argsort() / N\n",
    "    rank_x -= rank_x.mean()\n",
    "    rank_x *= 2\n",
    "    \n",
    "    efi_x = erfinv(rank_x)\n",
    "    efi_x -= efi_x.mean()\n",
    "    return efi_x"
   ]
  },
  {
   "cell_type": "code",
   "execution_count": 6,
   "metadata": {},
   "outputs": [
    {
     "data": {
      "image/png": "[encoded data removed]",
      "text/plain": [
       "<Figure size 720x360 with 2 Axes>"
      ]
     },
     "metadata": {
      "needs_background": "light"
     },
     "output_type": "display_data"
    }
   ],
   "source": [
    "transformed_data = rank_gauss(df[df.columns[0]])\n",
    "\n",
    "plt.figure(figsize = (10, 5))\n",
    "\n",
    "plt.subplot(1, 2, 1)\n",
    "plt.hist(df[df.columns[0]])\n",
    "plt.title('Before')\n",
    "\n",
    "plt.subplot(1, 2, 2)\n",
    "plt.hist(transformed_data)\n",
    "plt.title('After Gaussian Rank')\n",
    "\n",
    "plt.tight_layout()\n",
    "plt.show()"
   ]
  },
  {
   "cell_type": "markdown",
   "metadata": {},
   "source": [
    "# Kaggle Code\n",
    "+ sklearn QuantileTransformer\n",
    "+ https://www.kaggle.com/kushal1506/moa-pytorch-0-01859-rankgauss-pca-nn"
   ]
  },
  {
   "cell_type": "code",
   "execution_count": 7,
   "metadata": {
    "scrolled": true
   },
   "outputs": [],
   "source": [
    "transformer = QuantileTransformer(n_quantiles=100,random_state=0, output_distribution=\"normal\")\n",
    "transformer.fit(X)\n",
    "\n",
    "transformed_data = transformer.transform(X)"
   ]
  },
  {
   "cell_type": "code",
   "execution_count": 8,
   "metadata": {},
   "outputs": [
    {
     "data": {
      "image/png": "[encoded data removed]",
      "text/plain": [
       "<Figure size 720x360 with 2 Axes>"
      ]
     },
     "metadata": {
      "needs_background": "light"
     },
     "output_type": "display_data"
    }
   ],
   "source": [
    "plt.figure(figsize = (10, 5))\n",
    "\n",
    "plt.subplot(1, 2, 1)\n",
    "plt.hist(df[df.columns[0]])\n",
    "plt.title('Before')\n",
    "\n",
    "plt.subplot(1, 2, 2)\n",
    "plt.hist(transformed_data)\n",
    "plt.title('After Gaussian Rank')\n",
    "\n",
    "plt.tight_layout()\n",
    "plt.show()"
   ]
  }
 ],
 "metadata": {
  "kernelspec": {
   "display_name": "jhw",
   "language": "python",
   "name": "jhw"
  },
  "language_info": {
   "codemirror_mode": {
    "name": "ipython",
    "version": 3
   },
   "file_extension": ".py",
   "mimetype": "text/x-python",
   "name": "python",
   "nbconvert_exporter": "python",
   "pygments_lexer": "ipython3",
   "version": "3.8.5"
  }
 },
 "nbformat": 4,
 "nbformat_minor": 4
}
