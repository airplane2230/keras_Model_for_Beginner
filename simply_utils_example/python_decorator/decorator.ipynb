{
 "cells": [
  {
   "cell_type": "markdown",
   "metadata": {},
   "source": [
    "## @retry"
   ]
  },
  {
   "cell_type": "code",
   "execution_count": 98,
   "metadata": {},
   "outputs": [
    {
     "name": "stdout",
     "output_type": "stream",
     "text": [
      "Awesome sauce!\n"
     ]
    }
   ],
   "source": [
    "import random\n",
    "from tenacity import retry, stop_after_attempt\n",
    "\n",
    "@retry\n",
    "def do_something_unreliable():\n",
    "    if random.randint(0, 10) > 1:\n",
    "        raise IOError(\"Broken sauce, everything is hosed!!!111one\")\n",
    "    else:\n",
    "        return \"Awesome sauce!\"\n",
    "\n",
    "print(do_something_unreliable())"
   ]
  }
 ],
 "metadata": {
  "kernelspec": {
   "display_name": "Python 3",
   "language": "python",
   "name": "python3"
  },
  "language_info": {
   "codemirror_mode": {
    "name": "ipython",
    "version": 3
   },
   "file_extension": ".py",
   "mimetype": "text/x-python",
   "name": "python",
   "nbconvert_exporter": "python",
   "pygments_lexer": "ipython3",
   "version": "3.8.5"
  }
 },
 "nbformat": 4,
 "nbformat_minor": 4
}
