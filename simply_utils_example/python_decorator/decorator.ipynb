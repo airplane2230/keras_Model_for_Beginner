{
 "cells": [
  {
   "cell_type": "markdown",
   "metadata": {},
   "source": [
    "## @retry"
   ]
  },
  {
   "cell_type": "code",
   "execution_count": null,
   "metadata": {},
   "outputs": [],
   "source": [
    "import random\n",
    "from tenacity import retry, stop_after_attempt\n",
    "\n",
    "@retry\n",
    "def do_something_unreliable():\n",
    "    if random.randint(0, 10) > 1:\n",
    "        raise IOError(\"Broken sauce, everything is hosed!!!111one\")\n",
    "    else:\n",
    "        return \"Awesome sauce!\"\n",
    "\n",
    "print(do_something_unreliable())"
   ]
  },
  {
   "cell_type": "markdown",
   "metadata": {},
   "source": [
    "## @classmethod"
   ]
  },
  {
   "cell_type": "code",
   "execution_count": null,
   "metadata": {},
   "outputs": [],
   "source": [
    "class Computer:\n",
    "    os = 'Linux' # 클래스 변수\n",
    "    \n",
    "class Personal_Computer(Computer):\n",
    "    def __init__(self, c_id, pos):\n",
    "        self.c_id = c_id\n",
    "        self.partial_os = pos\n",
    "        \n",
    "    @classmethod\n",
    "    def change_os(cls, this_os):\n",
    "        if cls.os != this_os:\n",
    "            cls.os = this_os\n",
    "        else:\n",
    "            print(f'{cls.os} Already up-to-date!')\n",
    "            \n",
    "    @classmethod\n",
    "    def upgrade_os(cls, c_id, new_os):\n",
    "        return cls(c_id, new_os)\n",
    "            \n",
    "computer_1 = Personal_Computer('2021', 'window11')\n",
    "computer_2 = Personal_Computer('2020', 'window10')\n",
    "\n",
    "# 변경 전, Linux -> Window\n",
    "print(f'os change Before: {computer_1.os}, {computer_2.os}')\n",
    "Personal_Computer.change_os(this_os = 'Window')\n",
    "\n",
    "# 변경 후\n",
    "print(f'os change After: {computer_1.os}, {computer_2.os}', end = '\\n\\n')\n",
    "\n",
    "# upgrade os\n",
    "print(f'os upgrade Before: {computer_2.partial_os}')\n",
    "upgraded_computer_2 = computer_2.upgrade_os(computer_1.c_id, 'window11')\n",
    "print(f'os change After: {upgraded_computer_2.partial_os}')"
   ]
  },
  {
   "cell_type": "markdown",
   "metadata": {},
   "source": [
    "## @staticmethod"
   ]
  },
  {
   "cell_type": "code",
   "execution_count": null,
   "metadata": {},
   "outputs": [],
   "source": [
    "class Computer:\n",
    "    os = 'Linux' # 클래스 변수\n",
    "    \n",
    "class Personal_Computer(Computer):\n",
    "    def __init__(self, c_id, pos):\n",
    "        self.c_id = c_id\n",
    "        self.partial_os = pos\n",
    "        \n",
    "    @classmethod\n",
    "    def change_os(cls, this_os):\n",
    "        if cls.os != this_os:\n",
    "            cls.os = this_os\n",
    "        else:\n",
    "            print(f'{cls.os} Already up-to-date!')\n",
    "            \n",
    "    @classmethod\n",
    "    def upgrade_os(cls, c_id, new_os):\n",
    "        return cls(c_id, new_os)\n",
    "    \n",
    "    @staticmethod\n",
    "    def print_os():\n",
    "        print(Computer.os)\n",
    "\n",
    "Personal_Computer.print_os()"
   ]
  },
  {
   "cell_type": "markdown",
   "metadata": {},
   "source": [
    "## @property"
   ]
  },
  {
   "cell_type": "code",
   "execution_count": null,
   "metadata": {},
   "outputs": [],
   "source": [
    "class ERP:\n",
    "    def __init__(self):\n",
    "        self._salary = 100\n",
    "    \n",
    "    @property\n",
    "    def salary(self):\n",
    "        return self._salary\n",
    "    \n",
    "    @salary.setter\n",
    "    def salary(self, value):\n",
    "        if self._salary < 500:\n",
    "            self._salary = value\n",
    "        else:\n",
    "            raise ValueError('No!')\n",
    "        \n",
    "erp = ERP()\n",
    "print(erp.salary) # 100\n",
    "erp.salry = 200\n",
    "print(erp.salry) # 200"
   ]
  },
  {
   "cell_type": "markdown",
   "metadata": {},
   "source": [
    "### @dataclass"
   ]
  },
  {
   "cell_type": "code",
   "execution_count": null,
   "metadata": {},
   "outputs": [],
   "source": [
    "from dataclasses import dataclass\n",
    "\n",
    "@dataclass\n",
    "class Person:\n",
    "    name: str\n",
    "    age: int\n",
    "        \n",
    "person1 = Person('kim', 10)\n",
    "person2 = Person('kim', 10)\n",
    "\n",
    "print(person1.name, person1.age)\n",
    "print(person1 == person2)"
   ]
  },
  {
   "cell_type": "code",
   "execution_count": null,
   "metadata": {},
   "outputs": [],
   "source": []
  }
 ],
 "metadata": {
  "kernelspec": {
   "display_name": "Python 3",
   "language": "python",
   "name": "python3"
  },
  "language_info": {
   "codemirror_mode": {
    "name": "ipython",
    "version": 3
   },
   "file_extension": ".py",
   "mimetype": "text/x-python",
   "name": "python",
   "nbconvert_exporter": "python",
   "pygments_lexer": "ipython3",
   "version": "3.8.5"
  }
 },
 "nbformat": 4,
 "nbformat_minor": 4
}
