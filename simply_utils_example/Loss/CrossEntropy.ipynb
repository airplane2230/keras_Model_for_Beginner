{
 "cells": [
  {
   "cell_type": "markdown",
   "metadata": {},
   "source": [
    "## Bianry CrossEntropy"
   ]
  },
  {
   "cell_type": "code",
   "execution_count": null,
   "metadata": {},
   "outputs": [],
   "source": [
    "# + M<ultiLabel CrossEntropy\n",
    "\n",
    "import tensorflow as tf\n",
    "import numpy as np\n",
    "import tensorflow.keras.backend as K\n",
    "\n",
    "y_true = np.array([[1.],\n",
    "                   [1.],\n",
    "                   [1.]])\n",
    "y_pred = np.array([[1.],\n",
    "                   [1.],\n",
    "                   [0.]])\n",
    "\n",
    "def binary_crossentropy(y_true, y_pred):\n",
    "    y_pred = tf.clip_by_value(y_pred, K.epsilon(), 1. - K.epsilon())\n",
    "    \n",
    "    zero = (1 - y_true) * tf.math.log(1 - y_pred + K.epsilon())\n",
    "    one = y_true * tf.math.log(y_pred)\n",
    "    \n",
    "    return -tf.reduce_mean(zero + one)\n",
    "\n",
    "binary_crossentropy(y_true, y_pred).numpy()"
   ]
  },
  {
   "cell_type": "markdown",
   "metadata": {},
   "source": [
    "## Categorical CrossEntropy"
   ]
  },
  {
   "cell_type": "code",
   "execution_count": null,
   "metadata": {},
   "outputs": [],
   "source": [
    "import tensorflow as tf\n",
    "import numpy as np\n",
    "import tensorflow.keras.backend as K\n",
    "\n",
    "y_true = np.array([[1., 0, 0],\n",
    "                   [0, 1., 0],\n",
    "                   [0, 0, 1.]])\n",
    "y_pred = np.array([[1., 0, 0],\n",
    "                   [0, 1., 0],\n",
    "                   [1, 0, 0.]])\n",
    "\n",
    "def categorical_crossentropy(y_true, y_pred):\n",
    "    y_pred = tf.clip_by_value(y_pred, K.epsilon(), 1. - K.epsilon())\n",
    "    \n",
    "    \n",
    "    return - tf.reduce_mean(tf.reduce_sum(y_true * tf.math.log(y_pred), axis = 1))\n",
    "\n",
    "categorical_crossentropy(y_true, y_pred).numpy()"
   ]
  }
 ],
 "metadata": {
  "kernelspec": {
   "display_name": "jhw",
   "language": "python",
   "name": "jhw"
  },
  "language_info": {
   "codemirror_mode": {
    "name": "ipython",
    "version": 3
   },
   "file_extension": ".py",
   "mimetype": "text/x-python",
   "name": "python",
   "nbconvert_exporter": "python",
   "pygments_lexer": "ipython3",
   "version": "3.8.5"
  }
 },
 "nbformat": 4,
 "nbformat_minor": 4
}
