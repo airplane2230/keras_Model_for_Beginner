{
 "cells": [
  {
   "cell_type": "code",
   "execution_count": null,
   "metadata": {},
   "outputs": [],
   "source": [
    "# https://github.com/tensorflow/addons/blob/v0.14.0/tensorflow_addons/losses/focal_loss.py#L26-L81\n",
    "\n",
    "import tensorflow as tf\n",
    "import tensorflow.keras.backend as K\n",
    "\n",
    "class FocalLoss:\n",
    "    def __init__(self, alpha = 0.25, gamma = 2.0, from_logits = False):\n",
    "        self.alpha = alpha\n",
    "        self.gamma = gamma\n",
    "        self.from_logits = from_logits\n",
    "    \n",
    "    def __call__(self, y_true, y_pred):\n",
    "        y_true = tf.cast(y_true, tf.float64)\n",
    "        y_pred = tf.cast(y_pred, tf.float64)\n",
    "        \n",
    "        epsilon = K.epsilon()\n",
    "        \n",
    "        y_pred = tf.clip_by_value(y_pred, epsilon, 1. - epsilon)\n",
    "        \n",
    "        if self.from_logits:\n",
    "            y_pred = tf.sigmoid(y_pred)\n",
    "        \n",
    "        # No log\n",
    "        p_t = y_true * (y_pred) + (1 - y_true) * (1 - y_pred)\n",
    "        alpha_factor = y_true * self.alpha + (1 - y_true) * (1 - self.alpha)\n",
    "        modulating_factor = tf.pow((1.0 - p_t), self.gamma)\n",
    "        \n",
    "        # a * (1 - p_t) ** gamma * (-log(pt))\n",
    "        loss = alpha_factor * modulating_factor * tf.keras.losses.binary_crossentropy(y_true, y_pred, \n",
    "                                                                                      from_logits = self.from_logits)\n",
    "        \n",
    "        return tf.reduce_sum(loss)\n",
    "    \n",
    "    \n",
    "import numpy as np\n",
    "\n",
    "y_true = np.array([[1.],\n",
    "                   [1.],\n",
    "                   [0.]])\n",
    "y_pred = np.array([[0.97],\n",
    "                   [0.61],\n",
    "                   [0.4]])\n",
    "\n",
    "fl = FocalLoss()\n",
    "fl(y_true, y_pred)"
   ]
  }
 ],
 "metadata": {
  "kernelspec": {
   "display_name": "jhw",
   "language": "python",
   "name": "jhw"
  },
  "language_info": {
   "codemirror_mode": {
    "name": "ipython",
    "version": 3
   },
   "file_extension": ".py",
   "mimetype": "text/x-python",
   "name": "python",
   "nbconvert_exporter": "python",
   "pygments_lexer": "ipython3",
   "version": "3.8.5"
  }
 },
 "nbformat": 4,
 "nbformat_minor": 4
}
