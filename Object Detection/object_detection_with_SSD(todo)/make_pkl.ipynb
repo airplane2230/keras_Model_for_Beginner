{
 "cells": [
  {
   "cell_type": "markdown",
   "metadata": {},
   "source": [
    "## Make pickle\n",
    "- bbox 좌표와 배경을 포함한 레이블을 담고 있습니다"
   ]
  },
  {
   "cell_type": "markdown",
   "metadata": {},
   "source": [
    "### ready to load Data"
   ]
  },
  {
   "cell_type": "code",
   "execution_count": 1,
   "metadata": {},
   "outputs": [],
   "source": [
    "import glob as glob\n",
    "import pickle\n",
    "import cv2\n",
    "import xml.etree.ElementTree as ET\n",
    "from tqdm import tqdm_notebook as tqdm\n",
    "import numpy as np\n",
    "\n",
    "VOC_CLASSES=['background','aeroplane', 'bicycle', 'bird', 'boat',\n",
    "             'bottle', 'bus', 'car', 'cat',\n",
    "             'chair', 'cow', 'diningtable', 'dog',\n",
    "             'horse', 'motorbike', 'person', 'pottedplant',\n",
    "             'sheep', 'sofa', 'train', 'tvmonitor']\n",
    "\n",
    "# train_val 데이터만 작성합니다.\n",
    "DATA_PATH = './train/'\n",
    "\n",
    "annotation_path = DATA_PATH + 'Annotations/'\n",
    "image_path = DATA_PATH + 'JPEGImages/'\n",
    "\n",
    "all_images = glob.glob(image_path + '*.jpg')\n",
    "all_xmls = glob.glob(annotation_path + '*.xml')\n",
    "print(len(all_images), len(all_xmls))"
   ]
  },
  {
   "cell_type": "markdown",
   "metadata": {},
   "source": [
    "### Make ground_truth"
   ]
  },
  {
   "cell_type": "code",
   "execution_count": 70,
   "metadata": {},
   "outputs": [
    {
     "name": "stderr",
     "output_type": "stream",
     "text": [
      "<ipython-input-70-267aa93f66fa>:11: TqdmDeprecationWarning: This function will be removed in tqdm==5.0.0\n",
      "Please use `tqdm.notebook.tqdm` instead of `tqdm.tqdm_notebook`\n",
      "  for image_path, xml_path in tqdm(zip(all_images, all_xmls)):\n"
     ]
    },
    {
     "data": {
      "application/vnd.jupyter.widget-view+json": {
       "model_id": "71608391667d4b6daf96436a1a272f37",
       "version_major": 2,
       "version_minor": 0
      },
      "text/plain": [
       "HBox(children=(FloatProgress(value=1.0, bar_style='info', max=1.0), HTML(value='')))"
      ]
     },
     "metadata": {},
     "output_type": "display_data"
    },
    {
     "name": "stdout",
     "output_type": "stream",
     "text": [
      "\n"
     ]
    }
   ],
   "source": [
    "def bbox_basic_parsing(coords, w, h):\n",
    "    coords[0] = coords[0]/w\n",
    "    coords[1] = coords[1]/h\n",
    "    coords[2] = coords[2]/w\n",
    "    coords[3] = coords[3]/h\n",
    "    \n",
    "    return coords\n",
    "\n",
    "gt = dict()\n",
    "\n",
    "for image_path, xml_path in tqdm(zip(all_images, all_xmls)):\n",
    "    image = cv2.imread(image_path)\n",
    "    image_name = image_path.split('\\\\')[-1]\n",
    "    h, w, _ = image.shape\n",
    "    \n",
    "    sub_gt = []\n",
    "    \n",
    "    tree = ET.parse(xml_path)\n",
    "    root = tree.getroot()\n",
    "    \n",
    "    if len(root.findall('object')) > 0:\n",
    "        for obj in root.findall('object'):\n",
    "            name = obj.find('name').text\n",
    "            label = VOC_CLASSES.index(name)\n",
    "            dummy_label = [0] * len(VOC_CLASSES)\n",
    "            dummy_label[label] = 1\n",
    "            xmin = int(obj.find('bndbox').find('xmin').text)\n",
    "            ymin = int(obj.find('bndbox').find('ymin').text)\n",
    "            xmax = int(obj.find('bndbox').find('xmax').text)\n",
    "            ymax = int(obj.find('bndbox').find('ymax').text)\n",
    "            \n",
    "            xmin, ymin, xmax, ymax = bbox_basic_parsing([xmin, ymin, xmax, ymax], w, h)\n",
    "            \n",
    "            sub_gt.append(np.array([xmin, ymin, xmax, ymax] + dummy_label))\n",
    "            \n",
    "    gt[image_name] = np.array(sub_gt)"
   ]
  },
  {
   "cell_type": "code",
   "execution_count": 72,
   "metadata": {},
   "outputs": [
    {
     "name": "stdout",
     "output_type": "stream",
     "text": [
      "5011\n"
     ]
    }
   ],
   "source": [
    "print(len(gt))"
   ]
  },
  {
   "cell_type": "code",
   "execution_count": 73,
   "metadata": {},
   "outputs": [
    {
     "name": "stdout",
     "output_type": "stream",
     "text": [
      "[[0.526      0.56266667 0.648      0.904      0.         0.\n",
      "  0.         0.         0.         0.         0.         0.\n",
      "  0.         1.         0.         0.         0.         0.\n",
      "  0.         0.         0.         0.         0.         0.\n",
      "  0.        ]\n",
      " [0.33       0.704      0.506      0.992      0.         0.\n",
      "  0.         0.         0.         0.         0.         0.\n",
      "  0.         1.         0.         0.         0.         0.\n",
      "  0.         0.         0.         0.         0.         0.\n",
      "  0.        ]\n",
      " [0.01       0.65066667 0.134      0.99733333 0.         0.\n",
      "  0.         0.         0.         0.         0.         0.\n",
      "  0.         1.         0.         0.         0.         0.\n",
      "  0.         0.         0.         0.         0.         0.\n",
      "  0.        ]\n",
      " [0.482      0.51733333 0.59       0.79733333 0.         0.\n",
      "  0.         0.         0.         0.         0.         0.\n",
      "  0.         1.         0.         0.         0.         0.\n",
      "  0.         0.         0.         0.         0.         0.\n",
      "  0.        ]\n",
      " [0.554      0.496      0.624      0.58666667 0.         0.\n",
      "  0.         0.         0.         0.         0.         0.\n",
      "  0.         1.         0.         0.         0.         0.\n",
      "  0.         0.         0.         0.         0.         0.\n",
      "  0.        ]]\n"
     ]
    }
   ],
   "source": [
    "print(gt['000005.jpg'])"
   ]
  },
  {
   "cell_type": "markdown",
   "metadata": {},
   "source": [
    "### Make pickle!"
   ]
  },
  {
   "cell_type": "code",
   "execution_count": 76,
   "metadata": {},
   "outputs": [],
   "source": [
    "with open('VOC2007.pkl', 'wb') as handle:\n",
    "    pickle.dump(gt, handle)"
   ]
  }
 ],
 "metadata": {
  "kernelspec": {
   "display_name": "Python 3",
   "language": "python",
   "name": "python3"
  },
  "language_info": {
   "codemirror_mode": {
    "name": "ipython",
    "version": 3
   },
   "file_extension": ".py",
   "mimetype": "text/x-python",
   "name": "python",
   "nbconvert_exporter": "python",
   "pygments_lexer": "ipython3",
   "version": "3.8.3"
  }
 },
 "nbformat": 4,
 "nbformat_minor": 4
}
